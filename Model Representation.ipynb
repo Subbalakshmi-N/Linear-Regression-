{
 "cells": [
  {
   "cell_type": "markdown",
   "id": "62446534-221d-4dcc-87e9-05aaf98852a6",
   "metadata": {},
   "source": [
    "# Problem Statement\n",
    "\n",
    "This lab will use a simple data set with only two data points - a house with 1000 square feet(sqft) sold for \\\\$300,000 and a house with 2000 square feet sold for \\\\$500,000. These two points will constitute our *data or training set*. In this lab, the units of size are 1000 sqft and the units of price are 1000s of dollars.\n",
    "\n",
    "| Size (1000 sqft)     | Price (1000s of dollars) |\n",
    "| -------------------| ------------------------ |\n",
    "| 1.0               | 300                      |\n",
    "| 2.0               | 500                      |\n",
    "\n",
    "You would like to fit a linear regression model (shown above as the blue straight line) through these two points, so you can then predict price for other houses - say, a house with 1200 sqft."
   ]
  },
  {
   "cell_type": "markdown",
   "id": "2ab616a4-183a-4702-a7ce-a8b9a52fa92d",
   "metadata": {},
   "source": [
    "Please run the following code cell to create your x_train and y_train variables. The data is stored in one-dimensional NumPy arrays."
   ]
  },
  {
   "cell_type": "code",
   "execution_count": 209,
   "id": "05cb0d0c-450b-4d0d-be61-b1e4911f4de9",
   "metadata": {},
   "outputs": [],
   "source": [
    "import numpy as np\n",
    "import matplotlib.pyplot as plt"
   ]
  },
  {
   "cell_type": "code",
   "execution_count": 211,
   "id": "cc016f91-888c-44e8-9dfd-bd15d2b891db",
   "metadata": {},
   "outputs": [
    {
     "name": "stdout",
     "output_type": "stream",
     "text": [
      "x_train = [1. 2.]\n",
      "y_train = [300. 500.]\n"
     ]
    }
   ],
   "source": [
    "# x_train is the input variable (size in 1000 square feet)\n",
    "# y_train is the target (price in 1000s of dollars)\n",
    "x_train = np.array([1.0, 2.0])\n",
    "y_train = np.array([300.0,500.0])\n",
    "print(f\"x_train = {x_train}\")\n",
    "print(f\"y_train = {y_train}\")"
   ]
  },
  {
   "cell_type": "markdown",
   "id": "92220473-a63b-44a7-a050-d5fc223e312e",
   "metadata": {},
   "source": [
    "### Number of training examples m\n",
    "You will use m to denote the number of training examples. Numpy arrays have a .shape parameter. x_train.shape returns a python tuple with an entry for each dimension. x_train.shape[0] is the length of the array and number of examples as shown below."
   ]
  },
  {
   "cell_type": "code",
   "execution_count": 214,
   "id": "5d9db8f9-d0c3-4b7c-8bd6-71d7c9a28430",
   "metadata": {},
   "outputs": [
    {
     "name": "stdout",
     "output_type": "stream",
     "text": [
      "x_train.shape: (2,)\n",
      "Number of training examples is: 2\n"
     ]
    }
   ],
   "source": [
    "# m is the number of training examples\n",
    "print(f\"x_train.shape: {x_train.shape}\")\n",
    "m = x_train.shape[0]\n",
    "print(f\"Number of training examples is: {m}\")"
   ]
  },
  {
   "cell_type": "markdown",
   "id": "b434209c-d9f0-4643-a68d-3a8defed40ec",
   "metadata": {},
   "source": [
    "One can also use the Python len() function as shown below."
   ]
  },
  {
   "cell_type": "code",
   "execution_count": 217,
   "id": "bb81cc54-d943-4b15-af16-a47566c2ef8c",
   "metadata": {},
   "outputs": [
    {
     "name": "stdout",
     "output_type": "stream",
     "text": [
      "m = 2\n"
     ]
    }
   ],
   "source": [
    "m = len(x_train)\n",
    "print(f\"m = {m}\")"
   ]
  },
  {
   "cell_type": "markdown",
   "id": "db2ebdf9-4ace-4e45-9568-5d0a31d25d1e",
   "metadata": {},
   "source": [
    "### Training example x_i, y_i\n",
    "You will use (x (𝑖)\n",
    " , y (𝑖)\n",
    " ) to denote the  𝑖𝑡ℎ\n",
    "  training example. Since Python is zero indexed, (x (0)\n",
    " , y (0)\n",
    " ) is (1.0, 300.0) and (x (1)\n",
    " , y (1)\n",
    " ) is (2.0, 500.0).\n",
    "\n",
    "To access a value in a Numpy array, one indexes the array with the desired offset. For example the syntax to access location zero of x_train is x_train[0]. Run the next code block below to get the  𝑖𝑡ℎ\n",
    "  training example."
   ]
  },
  {
   "cell_type": "code",
   "execution_count": 220,
   "id": "f36f408a-25e4-4604-963c-6d73979a1bd2",
   "metadata": {},
   "outputs": [
    {
     "name": "stdout",
     "output_type": "stream",
     "text": [
      "x^(0) , y^(0) = 1.0, 300.0\n",
      "x^(1) , y^(1) = 2.0, 500.0\n"
     ]
    }
   ],
   "source": [
    "i = 0\n",
    "for i in range(0,2):\n",
    "    x_i = x_train[i]\n",
    "    y_i = y_train[i]\n",
    "    print(f\"x^({i}) , y^({i}) = {x_i}, {y_i}\")"
   ]
  },
  {
   "cell_type": "markdown",
   "id": "35476e6d-6964-4056-abc4-abe85a807289",
   "metadata": {},
   "source": [
    "Plotting the data\n",
    "You can plot these two points using the scatter() function in the matplotlib library, as shown in the cell below.\n",
    "\n",
    "The function arguments marker and c show the points as red stars (the default is blue dots).\n",
    "You can use other functions in the matplotlib library to set the title and labels to display"
   ]
  },
  {
   "cell_type": "code",
   "execution_count": 223,
   "id": "5dd4c56f-db63-4940-83c0-135df95d6125",
   "metadata": {},
   "outputs": [
    {
     "data": {
      "image/png": "[encoded data removed]",
      "text/plain": [
       "<Figure size 640x480 with 1 Axes>"
      ]
     },
     "metadata": {},
     "output_type": "display_data"
    }
   ],
   "source": [
    "plt.scatter(x_train, y_train, marker = \"*\" , c= \"r\" )\n",
    "plt.title(\"Housing prices\")\n",
    "plt.ylabel('Price (in 1000s of dollars)')\n",
    "plt.xlabel('Size (1000 sqft)')\n",
    "plt.show()"
   ]
  },
  {
   "cell_type": "markdown",
   "id": "65faab50-f424-45c2-aebc-ca70148378c8",
   "metadata": {},
   "source": [
    "### Model function\n",
    "The model function for linear regression (which is a function that maps from `x` to `y`) is represented as \n",
    " \r\n",
    "\r\n",
    "$$ f_{w,b}(x^{(i)}) = wx^{(i)} + b \\tag{1}$$\r\n",
    "\r\n",
    "The formula above is how you can represent straight lines - different values of $w$ and $b$ give you different straight lines on the  <br/> \r\n",
    "\r\n",
    "Let's try to get a better intuition for this through the code blocks below. Let's start with $w = 100$ and $b = 100$. \r\n",
    "\r\n",
    "**Note: You can come back to this cell to adjust the model's w and b parameters**"
   ]
  },
  {
   "cell_type": "code",
   "execution_count": 226,
   "id": "00bb1eb5-33dd-420b-b844-04fb6973e40c",
   "metadata": {},
   "outputs": [
    {
     "name": "stdout",
     "output_type": "stream",
     "text": [
      "w: 200\n",
      "b: 100\n"
     ]
    }
   ],
   "source": [
    "w = 200\n",
    "b= 100\n",
    "print(f\"w: {w}\")\n",
    "print(f\"b: {b}\")"
   ]
  },
  {
   "cell_type": "markdown",
   "id": "185123fa-0450-4ba5-93a7-da18d9dda1b3",
   "metadata": {},
   "source": [
    "Now, let's compute the value of $f_{w,b}(x^{(i)})$ for your two data points. You can explicitly write this out for each data point as - \r\n",
    "\r\n",
    "for $x^{(0)}$, `f_wb = w * x[0] + b`\r\n",
    "\r\n",
    "for $x^{(1)}$, `f_wb = w * x[1] + b`\r\n",
    "\r\n",
    "For a large number of data points, this can get unwieldy and repetitive. So instead, you can calculate the function output in a `for` loop as shown in the `compute_model_output` function below.\r\n",
    "> **Note**: The argument description `(ndarray (m,))` describes a Numpy n-dimensional array of shape (m,). `(scalar)` describes an argument without dimensions, just a magnitude.  \r\n",
    "> **Note**: `np.zero(n)` will return a one-dimensional numpy array with $n$ entries "
   ]
  },
  {
   "cell_type": "code",
   "execution_count": 228,
   "id": "2c8ae391-1ffd-479b-9620-0bb6b85aee8f",
   "metadata": {},
   "outputs": [],
   "source": [
    "def compute_model_output(x,w,b):\n",
    "    m = x.shape[0]\n",
    "    f_wb = np.zeros(m)\n",
    "    for i in range(m):\n",
    "        f_wb[i] = w * x[i] + b\n",
    "        \n",
    "    return f_wb"
   ]
  },
  {
   "cell_type": "markdown",
   "id": "a9ea1af2-fa86-41a8-a063-fea3f954cf1e",
   "metadata": {},
   "source": [
    "Now let's call the `compute_model_output` function and plot the output.."
   ]
  },
  {
   "cell_type": "code",
   "execution_count": 234,
   "id": "ca452c0a-42bc-41de-b23f-402ae9291497",
   "metadata": {},
   "outputs": [
    {
     "data": {
      "image/png": "[encoded data removed]",
      "text/plain": [
       "<Figure size 640x480 with 1 Axes>"
      ]
     },
     "metadata": {},
     "output_type": "display_data"
    }
   ],
   "source": [
    "tmp_f_wb = compute_model_output(x_train, w, b,)\n",
    "\n",
    "# Plot our model prediction\n",
    "plt.plot(x_train, tmp_f_wb, c='b',label='Our Prediction')\n",
    "\n",
    "# Plot the data points\n",
    "plt.scatter(x_train, y_train, marker='x', c='r',label='Actual Values')\n",
    "\n",
    "# Set the title\n",
    "plt.title(\"Housing Prices\")\n",
    "# Set the y-axis label\n",
    "plt.ylabel('Price (in 1000s of dollars)')\n",
    "# Set the x-axis label\n",
    "plt.xlabel('Size (1000 sqft)')\n",
    "plt.legend()\n",
    "plt.show()\n"
   ]
  },
  {
   "cell_type": "markdown",
   "id": "972898ff-855a-4188-a0ff-d11d8557f037",
   "metadata": {},
   "source": [
    "### Prediction\r\n",
    "Now that we have a model, we can use it to make our original prediction. Let's predict the price of a house with 1200 sqft. Since the units of  𝑥\r\n",
    "  are in 1000's of sqft,  𝑥\r\n",
    "  is 1.2."
   ]
  },
  {
   "cell_type": "code",
   "execution_count": 204,
   "id": "145f7dbf-5fae-4224-a463-1a51803486d3",
   "metadata": {},
   "outputs": [
    {
     "name": "stdout",
     "output_type": "stream",
     "text": [
      "$340 thousand dollars\n"
     ]
    }
   ],
   "source": [
    "w=200\n",
    "b=100\n",
    "x_i = 1.2\n",
    "cost_1200sqft = w * x_i + b    \n",
    "\n",
    "print(f\"${cost_1200sqft:.0f} thousand dollars\")"
   ]
  },
  {
   "cell_type": "code",
   "execution_count": null,
   "id": "a5cef548-52c9-4d70-aa1f-3f27c6d49a61",
   "metadata": {},
   "outputs": [],
   "source": []
  },
  {
   "cell_type": "code",
   "execution_count": null,
   "id": "9406607e-a2f9-4e3c-93af-bddcb5ee2e26",
   "metadata": {},
   "outputs": [],
   "source": []
  }
 ],
 "metadata": {
  "kernelspec": {
   "display_name": "Python 3 (ipykernel)",
   "language": "python",
   "name": "python3"
  },
  "language_info": {
   "codemirror_mode": {
    "name": "ipython",
    "version": 3
   },
   "file_extension": ".py",
   "mimetype": "text/x-python",
   "name": "python",
   "nbconvert_exporter": "python",
   "pygments_lexer": "ipython3",
   "version": "3.12.4"
  }
 },
 "nbformat": 4,
 "nbformat_minor": 5
}
